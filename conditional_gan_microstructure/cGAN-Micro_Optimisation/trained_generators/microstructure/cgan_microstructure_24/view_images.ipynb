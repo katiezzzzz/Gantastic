{
 "cells": [
  {
   "cell_type": "code",
   "execution_count": 8,
   "metadata": {},
   "outputs": [],
   "source": [
    "import matplotlib.pyplot as plt\n",
    "from matplotlib.pyplot import figure\n",
    "import numpy as np\n",
    "import tifffile as tiff\n",
    "import PyQt5"
   ]
  },
  {
   "cell_type": "code",
   "execution_count": null,
   "metadata": {},
   "outputs": [],
   "source": [
    "numbers = np.around(np.linspace(0,1,9),2)\n",
    "i = 0\n",
    "f, axarr = plt.subplots(3,3)\n",
    "f.set_figheight(10)\n",
    "f.set_figwidth(10)\n",
    "for n, ax in zip(numbers, axarr.ravel()):\n",
    "    im = tiff.imread(f'cgan_microstructure_24[{str(n)}].tif')\n",
    "    ax.imshow(im,cmap='gray')\n",
    "    ax.set_title(str(n))\n",
    "    ax.set_xticks([])\n",
    "    ax.set_yticks([])\n",
    "    i += 1\n",
    "plt.tight_layout()\n",
    "plt.show()"
   ]
  },
  {
   "cell_type": "code",
   "execution_count": null,
   "metadata": {},
   "outputs": [],
   "source": []
  }
 ],
 "metadata": {
  "interpreter": {
   "hash": "41f70bc25230500b78ac9bb5968d6853063d996383817682452c88b47cbcf0b3"
  },
  "kernelspec": {
   "display_name": "Python 3.8.10 64-bit ('ML': conda)",
   "name": "python3"
  },
  "language_info": {
   "codemirror_mode": {
    "name": "ipython",
    "version": 3
   },
   "file_extension": ".py",
   "mimetype": "text/x-python",
   "name": "python",
   "nbconvert_exporter": "python",
   "pygments_lexer": "ipython3",
   "version": "3.8.10"
  }
 },
 "nbformat": 4,
 "nbformat_minor": 2
}
